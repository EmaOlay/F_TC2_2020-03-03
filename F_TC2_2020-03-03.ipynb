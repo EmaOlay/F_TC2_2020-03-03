{
 "cells": [
  {
   "cell_type": "markdown",
   "metadata": {},
   "source": [
    "# Punto 1\n",
    "Para hallar la impedancia iterativa no dependo de la carga que quiero ver?<br>\n",
    "Entiendo que la impedancia iterativa es aquella con la cual se carga el cuadripolo de forma tal de que a la entrada se ve esa impedancia.<br>\n",
    "Podria asumir una carga $R=1\\Omega$ para calcular.<br>\n",
    "En pricipio lo planteo generico entonces:<br>\n",
    "Me interesa ver la carga $R_{it}$ en la entrada$\\rightarrow$\n",
    "<img src=\"./Rit.PNG\" align=\"center\" width=\"80%\" />\n",
    "$$R_{it}=Z_{1}+\\frac{(Z_3+R_{it})*Z_2}{Z_3+R_{it}+Z_2}$$\n",
    "$$\\rightarrow R_{it}=\\frac{Z_1-Z_3}{2}+\\sqrt{\\frac{(Z_3-Z_1)^2}{4}+(Z_1Z_3+Z_1Z_2+Z_3Z_2)}$$\n",
    "La impedancia imagen la puedo definir como:\n",
    "$$Z_{i1}=\\sqrt{\\frac{AB}{CD}}$$\n",
    "$$Z_{i2}=\\sqrt{\\frac{DB}{CA}}$$\n",
    "Y la impedancia caracteristica simplemente con la condicion de que$Z_{i1}=Z_{i2}\\rightarrow$...\n",
    "$$Z_o=\\sqrt{\\frac{B}{C}}$$\n",
    "<u>Recordando la matriz T de una L-invertida:<u>\n",
    "    $$T=\\begin{bmatrix}\n",
    "1+ ZY & Z\\\\\n",
    "Y     & 1\n",
    "\\end{bmatrix}$$"
   ]
  },
  {
   "cell_type": "code",
   "execution_count": 1,
   "metadata": {},
   "outputs": [
    {
     "name": "stdout",
     "output_type": "stream",
     "text": [
      "La matriz T de la L invertida es:\n",
      "⎡     2         ⎤\n",
      "⎢C⋅L⋅S  + 1  L⋅S⎥\n",
      "⎢               ⎥\n",
      "⎣   C⋅S       1 ⎦\n",
      "Reemplazando los valores y haciendo las cuentas para la Zi1 y la Zi2...\n",
      "Zi1=\n",
      "   ________\n",
      "  ╱  2     \n",
      "╲╱  S  + 1 \n",
      "Zi2=\n",
      "     ________\n",
      "    ╱   1    \n",
      "   ╱  ────── \n",
      "  ╱    2     \n",
      "╲╱    S  + 1 \n"
     ]
    }
   ],
   "source": [
    "from scipy import signal\n",
    "from sympy import *\n",
    "import matplotlib.pyplot as plt\n",
    "import math as m\n",
    "from splane import pzmap, grpDelay, bodePlot\n",
    "import numpy as np\n",
    "\n",
    "S, L, C=symbols('S L C')\n",
    "\n",
    "T_Linvertida=Matrix(([1+S*L*S*C,S*L],\n",
    "                     [S*C,1]))\n",
    "print(\"La matriz T de la L invertida es:\")\n",
    "pprint(T_Linvertida)\n",
    "print(\"Reemplazando los valores y haciendo las cuentas para la Zi1 y la Zi2...\")\n",
    "T_Linvertida_valores=Matrix(([1+S*1*S*1,S*1],\n",
    "                     [S*1,1]))\n",
    "Zi1_a=sqrt((T_Linvertida_valores[0]*T_Linvertida_valores[1])/(T_Linvertida_valores[2]*T_Linvertida_valores[3]))\n",
    "print(\"Zi1=\")\n",
    "pprint(Zi1_a)\n",
    "\n",
    "Zi2_a=sqrt((T_Linvertida_valores[3]*T_Linvertida_valores[1])/(T_Linvertida_valores[2]*T_Linvertida_valores[0]))\n",
    "print(\"Zi2=\")\n",
    "pprint(Zi2_a)"
   ]
  },
  {
   "cell_type": "markdown",
   "metadata": {},
   "source": [
    "No tiene sentido pensar en la Z caracteristica de la L invertida ya que no podria hacer iguales sus Z imagen.<br>\n",
    "Paso directamente a las Z del B)<br>\n",
    "La matriz T del punto B por comidad lo voy a hallar como una L invertida en cascada con una impedancia serie.<br>\n",
    "$$T=\\begin{bmatrix}\n",
    "1+ ZY & Z\\\\\n",
    "Y     & 1\n",
    "\\end{bmatrix}\n",
    "*\n",
    "\\begin{bmatrix}\n",
    "1 & Z\\\\\n",
    "0     & 1\n",
    "\\end{bmatrix}$$"
   ]
  },
  {
   "cell_type": "code",
   "execution_count": 2,
   "metadata": {},
   "outputs": [
    {
     "name": "stdout",
     "output_type": "stream",
     "text": [
      "La matriz T de la L invertida es:\n",
      "⎡   2       ⎤\n",
      "⎢2⋅S  + 1  S⎥\n",
      "⎢           ⎥\n",
      "⎣  2⋅S     1⎦\n",
      "La matriz T de la Z serie es:\n",
      "⎡1  S⎤\n",
      "⎢    ⎥\n",
      "⎣0  1⎦\n",
      "La T total es:\n",
      "⎡   2        ⎛   2    ⎞    ⎤\n",
      "⎢2⋅S  + 1  S⋅⎝2⋅S  + 1⎠ + S⎥\n",
      "⎢                          ⎥\n",
      "⎢                 2        ⎥\n",
      "⎣  2⋅S         2⋅S  + 1    ⎦\n",
      "Zi1=\n",
      "        __________________\n",
      "       ╱   ⎛   2    ⎞     \n",
      "      ╱  S⋅⎝2⋅S  + 1⎠ + S \n",
      "√2⋅  ╱   ──────────────── \n",
      "   ╲╱           S         \n",
      "──────────────────────────\n",
      "            2             \n",
      "Zi2=\n",
      "        __________________\n",
      "       ╱   ⎛   2    ⎞     \n",
      "      ╱  S⋅⎝2⋅S  + 1⎠ + S \n",
      "√2⋅  ╱   ──────────────── \n",
      "   ╲╱           S         \n",
      "──────────────────────────\n",
      "            2             \n",
      "Es claro que al ser un Pasa bajos K-cte tiene Zi1=Zi2\n",
      "Z0 es:\n",
      "        __________________\n",
      "       ╱   ⎛   2    ⎞     \n",
      "      ╱  S⋅⎝2⋅S  + 1⎠ + S \n",
      "√2⋅  ╱   ──────────────── \n",
      "   ╲╱           S         \n",
      "──────────────────────────\n",
      "            2             \n"
     ]
    }
   ],
   "source": [
    "T_Linvertida_2=Matrix(([1+S*1*S*2,S*1],\n",
    "                     [S*2,1]))\n",
    "print(\"La matriz T de la L invertida es:\")\n",
    "pprint(T_Linvertida_2)\n",
    "T_Zserie=Matrix(([1,S*1],\n",
    "                 [0,1]))\n",
    "print(\"La matriz T de la Z serie es:\")\n",
    "pprint(T_Zserie)\n",
    "\n",
    "T_Total=T_Linvertida_2*T_Zserie\n",
    "print(\"La T total es:\")\n",
    "pprint(T_Total)\n",
    "\n",
    "Zi1_b=sqrt((T_Total[0]*T_Total[1])/(T_Total[2]*T_Total[3]))\n",
    "print(\"Zi1=\")\n",
    "pprint(Zi1_b)\n",
    "\n",
    "Zi2_b=sqrt((T_Total[3]*T_Total[1])/(T_Total[2]*T_Total[0]))\n",
    "print(\"Zi2=\")\n",
    "pprint(Zi2_b)\n",
    "\n",
    "print(\"Es claro que al ser un Pasa bajos K-cte tiene Zi1=Zi2\")\n",
    "Z_0=sqrt(T_Total[1]/T_Total[2])\n",
    "print(\"Z0 es:\")\n",
    "pprint(Z_0)"
   ]
  },
  {
   "cell_type": "markdown",
   "metadata": {},
   "source": [
    "La consigna es medio capciosa me parece poco clara. No dice nada de maxima planicidad ni si los 0 db son respecto de Vg o la Vin del cuadripolo...<br>\n",
    "Asi como esta la red funciona solo faltaria desnormalizar...<br>\n",
    "Se podria agregar una celda adaptadora m=0,6 para adaptar mejor, pero estariamos agregando un cero de tx en 1,25 Ghz.<br>\n",
    "\n",
    "A continuacion solo desnormalizo y agrego simulaciones de ser necesario se haran updates...<br>"
   ]
  },
  {
   "cell_type": "code",
   "execution_count": 3,
   "metadata": {},
   "outputs": [
    {
     "name": "stdout",
     "output_type": "stream",
     "text": [
      "R[ 1 ] valia 1 => 50\n",
      "C[ 1 ] valia 2 => 6.3661977236758135e-12\n",
      "L[ 1 ] valia 1 => 7.957747154594767e-09\n"
     ]
    }
   ],
   "source": [
    "##########Constantes de Desnormalizacion#############\n",
    "N_z=50\n",
    "N_w=1*10**9 *2*m.pi\n",
    "#N_w=1\n",
    "####Vector de resistencias Normalizadas#############\n",
    "#####Se debe inicializar con los valores de tus resistencias########\n",
    "R_n=[1]\n",
    "\n",
    "####Vector de resistencias Desnormalizadas##########\n",
    "R=[]\n",
    "for i in range(len(R_n)):\n",
    "    \n",
    "    R.append(R_n[i]*N_z)\n",
    "    print('R[',i+1,'] valia',R_n[i],'=>',R[i])\n",
    "\n",
    "####Vector de capacitores Normalizados#############\n",
    "#####Se debe inicializar con los valores de tus capacitores########\n",
    "C_n=[2]\n",
    "\n",
    "####Vector de Capacitores Desnormalizados##########\n",
    "\n",
    "C=[]\n",
    "for i in range(len(C_n)):\n",
    "    C.append(C_n[i]/N_z / N_w)\n",
    "    print('C[',i+1,'] valia',C_n[i],'=>',C[i])\n",
    "\n",
    "####Vector de inductores Normalizados#############\n",
    "#####Se debe inicializar con los valores de tus inductores########\n",
    "L_n=[1]\n",
    "\n",
    "####Vector de inductores Desnormalizados##########\n",
    "\n",
    "L=[]\n",
    "for i in range(len(L_n)):\n",
    "    L.append(L_n[i]*N_z/N_w)\n",
    "    print('L[',i+1,'] valia',L_n[i],'=>',L[i])"
   ]
  },
  {
   "cell_type": "markdown",
   "metadata": {},
   "source": [
    "<img src=\"./AC trafer Vin1.PNG\" align=\"center\" width=\"100%\" />\n",
    "<img src=\"./circuito 1.PNG\" align=\"center\" width=\"80%\" />\n",
    "\n",
    "\n",
    "# Punto 2)\n",
    "Se nos pide un pasabanda \"simetrico\"(Me refiero a que es igualmente estricto para ambas bandas detenidas) por eso diseño apartir de la frecuencia superior y luego lo paso por un nucleo de transformacion.<br>\n",
    "Primero pasamos los dB/octava a dB/Decada(Because it painted!)<br>\n",
    "Regla de 3:<br>\n",
    "$$\\log(2)=0.3 \\rightarrow 6dB$$\n",
    "$$\\log(10)=1 \\rightarrow X$$\n",
    "Entonces $X=20dB/Dec$ esto nos indicaria que con un pasabajos orden 1 seria suficiente...<br>\n",
    "Encaro un butter.<br>\n",
    "Armo una plantilla normalizada:<br>"
   ]
  },
  {
   "cell_type": "code",
   "execution_count": 4,
   "metadata": {},
   "outputs": [
    {
     "name": "stdout",
     "output_type": "stream",
     "text": [
      "Verifico el epsilon y con el epsilon el N\n",
      "alpha_max con epsilon=1\n",
      "20⋅log(√2)\n",
      "alpha min con N=1\n",
      "20⋅log(√101)\n"
     ]
    }
   ],
   "source": [
    "print(\"Verifico el epsilon y con el epsilon el N\")\n",
    "alpha_max=20*log(sqrt(1+1))#se sustituyo epsilon=1\n",
    "print(\"alpha_max con epsilon=1\")\n",
    "pprint(alpha_max)\n",
    "alpha_min=20*log(sqrt(1+10**(2*1)))\n",
    "print(\"alpha min con N=1\")\n",
    "pprint(alpha_min)"
   ]
  },
  {
   "cell_type": "markdown",
   "metadata": {},
   "source": [
    "Visto que las verificaciones dan bien el polinomio debe ser:\n",
    "$$T_{(S)}=\\frac{1}{S+1}$$\n",
    "y el nucleo de transformacion debe ser:\n",
    "$$W_o^2=W_1*W_2$$\n",
    "$$B=W_2-W_1$$\n",
    "$$S=\\frac{W_o}{B}*\\frac{S^2 + W_o^2}{W_oS}$$"
   ]
  },
  {
   "cell_type": "code",
   "execution_count": 15,
   "metadata": {},
   "outputs": [
    {
     "name": "stdout",
     "output_type": "stream",
     "text": [
      "Wo^2= 1000000 Lo vamos a usar para hacer las cuentas normalizadas\n",
      "T(S)=\n",
      "                     S                      \n",
      "────────────────────────────────────────────\n",
      "                   2                        \n",
      "0.101010101010101⋅S  + S + 0.101010101010101\n"
     ]
    },
    {
     "data": {
      "image/png": "[encoded data removed]",
      "text/plain": [
       "<Figure size 432x288 with 1 Axes>"
      ]
     },
     "metadata": {
      "needs_background": "light"
     },
     "output_type": "display_data"
    },
    {
     "data": {
      "image/png": "[encoded data removed]",
      "text/plain": [
       "<Figure size 432x288 with 1 Axes>"
      ]
     },
     "metadata": {
      "needs_background": "light"
     },
     "output_type": "display_data"
    }
   ],
   "source": [
    "Wo_cuadrado=100*10*10**3\n",
    "print(\"Wo^2=\",Wo_cuadrado,\"Lo vamos a usar para hacer las cuentas normalizadas\")\n",
    "Wo=1\n",
    "B=10-0.1\n",
    "T_S=1/((Wo/B*(S**2 +Wo**2)/(Wo*S))+1)\n",
    "print(\"T(S)=\")\n",
    "pprint(simplify(T_S))\n",
    "num1=[1,0]\n",
    "den1=[10/99,1,10/99]\n",
    "Sys1=signal.TransferFunction(num1,den1)\n",
    "bodePlot(Sys1)"
   ]
  },
  {
   "cell_type": "markdown",
   "metadata": {},
   "source": [
    "<img src=\"./circuito 2.PNG\" align=\"center\" width=\"80%\" />\n",
    "<img src=\"./AC tranfer 2.PNG\" align=\"center\" width=\"100%\" />"
   ]
  },
  {
   "cell_type": "code",
   "execution_count": 9,
   "metadata": {},
   "outputs": [
    {
     "name": "stdout",
     "output_type": "stream",
     "text": [
      "R[ 1 ] valia 0.10101010101010101 => 101.01010101010101\n",
      "C[ 1 ] valia 1 => 1.5915494309189535e-07\n",
      "L[ 1 ] valia 1 => 0.15915494309189535\n"
     ]
    }
   ],
   "source": [
    "##########Constantes de Desnormalizacion#############\n",
    "N_z=10**3\n",
    "N_w=1*10**3 *2*m.pi\n",
    "#N_w=1\n",
    "####Vector de resistencias Normalizadas#############\n",
    "#####Se debe inicializar con los valores de tus resistencias########\n",
    "R_n=[10/99]\n",
    "\n",
    "####Vector de resistencias Desnormalizadas##########\n",
    "R=[]\n",
    "for i in range(len(R_n)):\n",
    "    \n",
    "    R.append(R_n[i]*N_z)\n",
    "    print('R[',i+1,'] valia',R_n[i],'=>',R[i])\n",
    "\n",
    "####Vector de capacitores Normalizados#############\n",
    "#####Se debe inicializar con los valores de tus capacitores########\n",
    "C_n=[1]\n",
    "\n",
    "####Vector de Capacitores Desnormalizados##########\n",
    "\n",
    "C=[]\n",
    "for i in range(len(C_n)):\n",
    "    C.append(C_n[i]/N_z / N_w)\n",
    "    print('C[',i+1,'] valia',C_n[i],'=>',C[i])\n",
    "\n",
    "####Vector de inductores Normalizados#############\n",
    "#####Se debe inicializar con los valores de tus inductores########\n",
    "L_n=[1]\n",
    "\n",
    "####Vector de inductores Desnormalizados##########\n",
    "\n",
    "L=[]\n",
    "for i in range(len(L_n)):\n",
    "    L.append(L_n[i]*N_z/N_w)\n",
    "    print('L[',i+1,'] valia',L_n[i],'=>',L[i])"
   ]
  },
  {
   "cell_type": "markdown",
   "metadata": {},
   "source": [
    "<img src=\"./circuito 2 des.PNG\" align=\"center\" width=\"80%\" />\n",
    "<img src=\"./AC tranfer des 2.PNG\" align=\"center\" width=\"100%\" />\n",
    "<img src=\"./circuito 2 gain.PNG\" align=\"center\" width=\"80%\" />\n",
    "<img src=\"./AC tranfer 2 gain.PNG\" align=\"center\" width=\"100%\" />\n",
    "<br>\n",
    "\n",
    "# Punto3\n",
    "\n",
    "## a) el de la derecha es un pasa todo el de la izq es un pasa banda, verificamos si es notch porque le faltan coeficientes.\n",
    "$$\\lvert{S_{11}(jw)}\\rvert^2+\\lvert{S_{21}(jw)}\\rvert^2=1$$"
   ]
  },
  {
   "cell_type": "code",
   "execution_count": 29,
   "metadata": {},
   "outputs": [
    {
     "name": "stdout",
     "output_type": "stream",
     "text": [
      "Modulo de S11 al cuadrado=\n",
      "  4    2     \n",
      " W  + W  + 1 \n",
      "─────────────\n",
      " 4      2    \n",
      "W  + 2⋅W  + 1\n",
      "S11(S)*S11(-S)=\n",
      "  4    2     \n",
      " S  - S  + 1 \n",
      "─────────────\n",
      " 4      2    \n",
      "S  - 2⋅S  + 1\n",
      "    4    2       \n",
      "   S  - S  + 1   \n",
      "─────────────────\n",
      "       2        2\n",
      "(S - 1) ⋅(S + 1) \n",
      " 4    2    \n",
      "S  - S  + 1\n"
     ]
    },
    {
     "data": {
      "image/png": "[encoded data removed]",
      "text/plain": [
       "<Figure size 432x288 with 1 Axes>"
      ]
     },
     "metadata": {
      "needs_background": "light"
     },
     "output_type": "display_data"
    },
    {
     "data": {
      "image/png": "[encoded data removed]",
      "text/plain": [
       "<Figure size 432x288 with 1 Axes>"
      ]
     },
     "metadata": {
      "needs_background": "light"
     },
     "output_type": "display_data"
    }
   ],
   "source": [
    "num2=[1,0,0]\n",
    "den2=[1,0,2,0,1]\n",
    "Sys2=signal.TransferFunction(num2,den2)\n",
    "bodePlot(Sys2)\n",
    "num3=[1,0,-2,0,1]\n",
    "den3=[1,0,-7/4,0,1]\n",
    "Sys3=signal.TransferFunction(num3,den3)\n",
    "bodePlot(Sys3)\n",
    "W=symbols('W')\n",
    "S21=W**2/(W**4 +2*W**2 +1)\n",
    "S11=1-S21\n",
    "print(\"Modulo de S11 al cuadrado=\")\n",
    "pprint(simplify((S11)))\n",
    "print(\"S11(S)*S11(-S)=\")\n",
    "pprint(simplify((S11).subs(W,S/I)))\n",
    "print(\"Trato de separar los polos y los ceros, los polos se dejan pero los ceros no...\")\n",
    "pprint(factor((S11).subs(W,S/I)))\n",
    "pprint(factor(S**4-S**2+1))"
   ]
  },
  {
   "cell_type": "code",
   "execution_count": null,
   "metadata": {},
   "outputs": [],
   "source": []
  }
 ],
 "metadata": {
  "kernelspec": {
   "display_name": "Python 3",
   "language": "python",
   "name": "python3"
  },
  "language_info": {
   "codemirror_mode": {
    "name": "ipython",
    "version": 3
   },
   "file_extension": ".py",
   "mimetype": "text/x-python",
   "name": "python",
   "nbconvert_exporter": "python",
   "pygments_lexer": "ipython3",
   "version": "3.8.5"
  }
 },
 "nbformat": 4,
 "nbformat_minor": 4
}
